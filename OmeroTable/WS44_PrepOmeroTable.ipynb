{
 "cells": [
  {
   "cell_type": "code",
   "execution_count": 1,
   "id": "c8bc5f3e",
   "metadata": {},
   "outputs": [],
   "source": [
    "#Omero\n",
    "from myconfig import OMEROUSER, OMEROPASS, OMEROPORT, OMEROHOST\n",
    "import ezomero\n",
    "import omero\n",
    "\n",
    "#Other\n",
    "import numpy as np\n",
    "import pandas as pd\n",
    "import skimage.io\n",
    "import os\n",
    "import pathlib\n",
    "import skimage\n",
    "import numpy as np\n",
    "from matplotlib import pyplot as plt\n",
    "import pandas as pd\n",
    "import seaborn as sns\n",
    "from datetime import datetime\n",
    "import warnings\n",
    "import time\n",
    "import glob\n",
    "import PIL\n",
    "import cv2\n",
    "import csv\n",
    "\n",
    "\n",
    "\n",
    "#Settings\n",
    "warnings.filterwarnings('ignore')\n",
    "%matplotlib inline\n",
    "%config InlineBackend.figure_format = 'retina'"
   ]
  },
  {
   "cell_type": "code",
   "execution_count": 2,
   "id": "4fccfe3e",
   "metadata": {},
   "outputs": [],
   "source": [
    "# Variables\n",
    "plate_id = 765\n",
    "plate_name = \"LM2_siGENOME_1A\"\n",
    "filepath = r\"Z:\\Data\\@MiN\\Sarah\\Projects\\TiM2023\\ExampleData\\Results_All\"\n",
    "filename = r\"Z:\\Data\\@MiN\\Sarah\\Projects\\TiM2023\\ExampleData\\Results_All\\Image.csv\"\n",
    "index_file = f\"Z:\\Data\\@MiN\\Sarah\\Projects\\TiM2023\\ExampleData\\ImageIndex.ColumbusIDX.csv\""
   ]
  },
  {
   "cell_type": "code",
   "execution_count": 3,
   "id": "ee24dcea",
   "metadata": {},
   "outputs": [],
   "source": [
    "df_features = pd.read_csv(filename, delimiter=\",\")"
   ]
  },
  {
   "cell_type": "code",
   "execution_count": null,
   "id": "e78589ee",
   "metadata": {},
   "outputs": [],
   "source": [
    "for x,y in enumerate(df_features.columns):\n",
    "    print(f\"{x}: {y}\")"
   ]
  },
  {
   "cell_type": "code",
   "execution_count": 4,
   "id": "19b7519e",
   "metadata": {},
   "outputs": [],
   "source": [
    "select = [5, 7, 27, 50, 58, 59, 60, 69, 72, 73, 107, 108, 109, 110, 162, 172, 180, 181, 182, 195, 196, 229, 230, 231, 232, 285]"
   ]
  },
  {
   "cell_type": "code",
   "execution_count": null,
   "id": "a5c00aa1",
   "metadata": {},
   "outputs": [],
   "source": [
    "\"\"\"select = np.arange(48,523).tolist()\n",
    "select.append(3)\n",
    "select.append(5)\n",
    "select.append(6)\n",
    "select.append(27)\"\"\""
   ]
  },
  {
   "cell_type": "code",
   "execution_count": 5,
   "id": "64ab2150",
   "metadata": {},
   "outputs": [
    {
     "data": {
      "text/plain": [
       "(240, 27)"
      ]
     },
     "execution_count": 5,
     "metadata": {},
     "output_type": "execute_result"
    }
   ],
   "source": [
    "df_feat_1 = df_features.loc[:,df_features.columns[select]]\n",
    "df_feat_1[\"Image\"] = [x.split(\"_\")[0] for x in df_feat_1.FileName_Actin]\n",
    "df_feat_1.shape"
   ]
  },
  {
   "cell_type": "markdown",
   "id": "10b9a135",
   "metadata": {},
   "source": [
    "#### Opening Index csv"
   ]
  },
  {
   "cell_type": "code",
   "execution_count": 6,
   "id": "d408f6f6",
   "metadata": {},
   "outputs": [],
   "source": [
    "df_index = pd.read_csv(index_file, delimiter=\"\\t\")"
   ]
  },
  {
   "cell_type": "code",
   "execution_count": null,
   "id": "1c765bd4",
   "metadata": {},
   "outputs": [],
   "source": [
    "#df_index"
   ]
  },
  {
   "cell_type": "code",
   "execution_count": null,
   "id": "53c7444b",
   "metadata": {},
   "outputs": [],
   "source": [
    "\"\"\"for x,y, in enumerate(df_index.columns):\n",
    "    print(f\"{x}: {y}\")\"\"\""
   ]
  },
  {
   "cell_type": "code",
   "execution_count": 7,
   "id": "7ba6596b",
   "metadata": {},
   "outputs": [],
   "source": [
    "select = [36,37,38,43]\n",
    "df_index_1 = df_index.loc[:,df_index.columns[select]]\n",
    "df_index_1[\"Image\"] = [x.split(\".\")[0] for x in df_index_1.sourcefilename]\n",
    "df_index_1 = df_index_1.drop_duplicates()\n",
    "df_merged = pd.merge(df_feat_1, df_index_1, how=\"left\", left_on=\"Image\", right_on=\"Image\")\n",
    "df_merged[\"Index\"] = [x.split(\"-\")[1] for x in df_merged.Image]"
   ]
  },
  {
   "cell_type": "code",
   "execution_count": null,
   "id": "253761f4",
   "metadata": {},
   "outputs": [],
   "source": [
    "df_merged.shape"
   ]
  },
  {
   "cell_type": "code",
   "execution_count": 8,
   "id": "41bf19e1",
   "metadata": {},
   "outputs": [],
   "source": [
    "save_file = f\"{filepath}\\output_27feat_1ImagePerWell.csv\"\n",
    "df_merged.to_csv(save_file)"
   ]
  },
  {
   "cell_type": "markdown",
   "id": "52207630",
   "metadata": {},
   "source": [
    "Here quick manual replacement of NaNs, check of / etc."
   ]
  },
  {
   "cell_type": "markdown",
   "id": "e6a946e9",
   "metadata": {},
   "source": [
    "#### Pre-requisites for functional omero.table\n",
    "\n",
    "- eine Column \"Well\" mit der Well ID\n",
    "- no empty headers\n",
    "-  ``/`` character is not allowed in object names"
   ]
  },
  {
   "cell_type": "code",
   "execution_count": null,
   "id": "fbea2315",
   "metadata": {},
   "outputs": [],
   "source": [
    "#data_file = f\"Z:\\Data\\@MiN\\Sarah\\Projects\\TiM2023\\ExampleData\\Results_All\\All_output.csv\"\n",
    "#df_features = pd.read_csv(data_file, delimiter=\",\")"
   ]
  },
  {
   "cell_type": "code",
   "execution_count": 9,
   "id": "402d67bf",
   "metadata": {},
   "outputs": [],
   "source": [
    "df_features = df_merged.copy()"
   ]
  },
  {
   "cell_type": "code",
   "execution_count": 10,
   "id": "65e97313",
   "metadata": {},
   "outputs": [
    {
     "name": "stdout",
     "output_type": "stream",
     "text": [
      "\n",
      "Number of fields: (0, 29)\n",
      "\n",
      "Grid size: {'rows': 15, 'columns': 23}\n",
      "\n",
      "Wells in Plate: LM2_GEFGAP_siGENOME_1A\n"
     ]
    }
   ],
   "source": [
    "# Test upload of key:value pairs to wells\n",
    "conn=ezomero.connect(OMEROUSER, OMEROPASS, \"\", host=OMEROHOST, port=OMEROPORT, secure=True) \n",
    "plate = conn.getObject(\"Plate\", plate_id)\n",
    "list_wellrow, list_wellcolumn, list_wellid, list_wellpos, list_imageid, list_index = [], [], [], [], [], []\n",
    "\n",
    "print(\"\\nNumber of fields:\", plate.getNumberOfFields())\n",
    "print(\"\\nGrid size:\", plate.getGridSize())\n",
    "print(\"\\nWells in Plate:\", plate.getName())\n",
    "for well in plate.listChildren():\n",
    "    index = well.countWellSample()\n",
    "\n",
    "    for index in range(0, index):\n",
    "        list_wellid.append(well.getId())\n",
    "        list_wellpos.append(well.getWellPos())\n",
    "        list_wellrow.append(well.row)\n",
    "        list_wellcolumn.append(well.column)\n",
    "        list_imageid.append(well.getImage(index).getId())\n",
    "        list_index.append(index+1)"
   ]
  },
  {
   "cell_type": "code",
   "execution_count": 14,
   "id": "fe4c6c75",
   "metadata": {},
   "outputs": [],
   "source": [
    "df_wells = pd.DataFrame()\n",
    "df_wells[\"Well_ID\"] = list_wellid\n",
    "df_wells[\"Well_Position\"] = list_wellpos\n",
    "df_wells[\"Well_Row\"] = list_wellrow\n",
    "df_wells[\"Well_Column\"] = list_wellcolumn\n",
    "df_wells[\"Image_ID\"] = list_imageid\n",
    "df_wells[\"Index\"] = list_index\n",
    "#df_features_plate = df_features[df_features[\"Plate\"] == plate_name]"
   ]
  },
  {
   "cell_type": "code",
   "execution_count": 15,
   "id": "c4556c7f",
   "metadata": {},
   "outputs": [],
   "source": [
    "df_features[\"Well_Index\"] = df_features.WellName + \"_\" + df_features.Index.astype(str)\n",
    "df_wells[\"Well_Index\"] =df_wells.Well_Position + \"_\" + df_wells.Index.astype(str)\n",
    "df_features_plate = df_features\n",
    "df_features_plate = df_features_plate.merge(df_wells, left_on=\"Well_Index\", right_on=\"Well_Index\")\n",
    "df_features_plate[\"Well\"] = df_features_plate.Well_ID\n",
    "df_features_plate.columns\n",
    "df_features_plate.drop([\"Index_x\", \"Well_Index\", \"Well_ID\", \"Index_y\"], axis=1, inplace=True)\n",
    "df_features_plate.drop([\"Row\", \"Column\", \"WellName\"], axis=1, inplace=True)\n",
    "df_features_plate.fillna(0, inplace=True)"
   ]
  },
  {
   "cell_type": "code",
   "execution_count": 16,
   "id": "7bd40726",
   "metadata": {},
   "outputs": [],
   "source": [
    "data_file_to_save = f\"{filepath}\\OmeroTable_ImageIDs_27feat_1ImagePlate.csv\"\n",
    "df_features_plate.to_csv(data_file_to_save)"
   ]
  },
  {
   "cell_type": "code",
   "execution_count": 17,
   "id": "8ebf3721",
   "metadata": {},
   "outputs": [],
   "source": [
    "from omero.grid import DoubleColumn, ImageColumn, LongColumn, WellColumn, StringColumn, FileColumn\n",
    "from omero.constants.namespaces import NSBULKANNOTATIONS\n",
    "from omero.gateway import FileAnnotationWrapper\n",
    "from omero.model import OriginalFileI\n",
    "\n",
    "cols = []\n",
    "\n",
    "for col in df_features_plate.columns:\n",
    "    #if col == 'Well':\n",
    "        #cols.append(WellColumn(col, '', df_features_plate[col]))\n",
    "    if col == \"Image_ID\":\n",
    "        cols.append(ImageColumn(col, '', df_features_plate[col]))\n",
    "    elif df_features_plate[col].dtype == 'int64':\n",
    "        cols.append(LongColumn(col, '', df_features_plate[col]))\n",
    "    elif df_features_plate[col].dtype == 'float64':\n",
    "        cols.append(DoubleColumn(col, '', df_features_plate[col]))"
   ]
  },
  {
   "cell_type": "code",
   "execution_count": 20,
   "id": "03545499",
   "metadata": {},
   "outputs": [],
   "source": [
    "conn=ezomero.connect(OMEROUSER, OMEROPASS, \"\", host=OMEROHOST, port=OMEROPORT, secure=True) \n",
    "screen = conn.getObject(\"Screen\", 852)\n",
    "resources = conn.c.sf.sharedResources()\n",
    "repository_id = resources.repositories().descriptions[0].getId().getValue()\n",
    "table_name = plate_name +\"_CellprofilerResults_27feat_1ImagePWell\"\n",
    "table = resources.newTable(repository_id, table_name)\n",
    "table.initialize(cols)\n",
    "table.addData(cols)\n",
    "\n",
    "# Link the table to the plate\n",
    "orig_file = table.getOriginalFile()\n",
    "file_ann = FileAnnotationWrapper(conn)\n",
    "file_ann.setNs(NSBULKANNOTATIONS)\n",
    "file_ann._obj.file = OriginalFileI(orig_file.id.val, False)\n",
    "file_ann.save()\n",
    "\n",
    "#ezomero.post_map_annotation(conn, object_type, object_id, kv_dict, ns, across_groups=True)\n",
    "\n",
    "screen.linkAnnotation(file_ann)\n",
    "table.close()"
   ]
  },
  {
   "cell_type": "code",
   "execution_count": 19,
   "id": "c533cc9b",
   "metadata": {},
   "outputs": [],
   "source": [
    "conn.close()"
   ]
  }
 ],
 "metadata": {
  "kernelspec": {
   "display_name": "cellprofiler-kernel",
   "language": "python",
   "name": "cellprofiler-kernel"
  },
  "language_info": {
   "codemirror_mode": {
    "name": "ipython",
    "version": 3
   },
   "file_extension": ".py",
   "mimetype": "text/x-python",
   "name": "python",
   "nbconvert_exporter": "python",
   "pygments_lexer": "ipython3",
   "version": "3.8.12"
  }
 },
 "nbformat": 4,
 "nbformat_minor": 5
}
