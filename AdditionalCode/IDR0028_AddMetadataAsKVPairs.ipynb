{
 "cells": [
  {
   "cell_type": "code",
   "execution_count": null,
   "id": "4b7aa33a",
   "metadata": {},
   "outputs": [],
   "source": [
    "#Omero\n",
    "\n",
    "import ezomero\n",
    "import omero\n",
    "\n",
    "#Other\n",
    "import numpy as np\n",
    "import pandas as pd\n",
    "import os\n",
    "import pathlib\n",
    "import warnings\n",
    "import glob\n",
    "import csv\n",
    "import getpass\n",
    "\n",
    "\n",
    "\n",
    "#Settings\n",
    "warnings.filterwarnings('ignore')\n",
    "%matplotlib inline\n",
    "%config InlineBackend.figure_format = 'retina'"
   ]
  },
  {
   "cell_type": "code",
   "execution_count": null,
   "id": "3cc18bca",
   "metadata": {},
   "outputs": [],
   "source": [
    "# Login to OMERO\n",
    "OMEROUSER = input(f\"Enter username: \\t\")\n",
    "OMEROPASS = getpass.getpass(prompt = f\"Enter password: \\t\")\n",
    "\n",
    "\n",
    "OMEROHOST = ''\n",
    "OMEROPORT = \n",
    "OMEROWEB = ''"
   ]
  },
  {
   "cell_type": "code",
   "execution_count": null,
   "id": "04bbf754",
   "metadata": {},
   "outputs": [],
   "source": [
    "# Connection Check:\n",
    "conn=ezomero.connect(OMEROUSER, OMEROPASS, \"\", host=OMEROHOST, port=OMEROPORT, secure=True)\n",
    "print(conn.isConnected())"
   ]
  },
  {
   "cell_type": "code",
   "execution_count": null,
   "id": "4bedb4ac",
   "metadata": {},
   "outputs": [],
   "source": [
    "# Variables\n",
    "plate_id = 765\n",
    "filename = r\"Z:\\Data\\@MiN\\Jens\\OMERO Test Daten\\IDR\\Metadata\\Metadata_for_PopMetadata\\bulk_annotations_plate2A.csv\"\n",
    "\n",
    "ns=\"Experimental Metadata\""
   ]
  },
  {
   "cell_type": "code",
   "execution_count": null,
   "id": "1239db1e",
   "metadata": {},
   "outputs": [],
   "source": [
    "# Get well positions\n",
    "conn=ezomero.connect(OMEROUSER, OMEROPASS, \"\", host=OMEROHOST, port=OMEROPORT, secure=True) \n",
    "plate = conn.getObject(\"Plate\", plate_id)\n",
    "list_wellrow, list_wellcolumn, list_wellid, list_wellpos = [], [], [], [] \n",
    "\n",
    "print(\"\\nNumber of fields:\", plate.getNumberOfFields())\n",
    "print(\"\\nGrid size:\", plate.getGridSize())\n",
    "print(\"\\nWells in Plate:\", plate.getName())\n",
    "for well in plate.listChildren():\n",
    "    index = well.countWellSample()\n",
    "    list_wellid.append(well.getId())\n",
    "    list_wellpos.append(well.getWellPos())\n",
    "    list_wellrow.append(well.row)\n",
    "    list_wellcolumn.append(well.column)"
   ]
  },
  {
   "cell_type": "code",
   "execution_count": null,
   "id": "e17f0491",
   "metadata": {},
   "outputs": [],
   "source": [
    "df_wells = pd.DataFrame()\n",
    "df_wells[\"well_id\"] = list_wellid\n",
    "df_wells[\"Well_Position\"] = list_wellpos\n",
    "df_wells[\"Well_Row\"] = list_wellrow\n",
    "df_wells[\"Well_Column\"] = list_wellcolumn"
   ]
  },
  {
   "cell_type": "code",
   "execution_count": null,
   "id": "8b92dbe1",
   "metadata": {},
   "outputs": [],
   "source": [
    "df_annotationdata = pd.read_csv(filename, delimiter=\";\")\n",
    "df_annotationdata.head()"
   ]
  },
  {
   "cell_type": "code",
   "execution_count": null,
   "id": "90d2f819",
   "metadata": {},
   "outputs": [],
   "source": [
    "df_annotationdata = df_annotationdata.merge(df_wells, left_on=\"Well\", right_on=\"Well_Position\")\n",
    "df_annotationdata = df_annotationdata.set_index(\"well_id\")\n",
    "df_dict = df_annotationdata.to_dict(orient=\"index\")"
   ]
  },
  {
   "cell_type": "code",
   "execution_count": null,
   "id": "255c1ae2",
   "metadata": {},
   "outputs": [],
   "source": [
    "#df_dict"
   ]
  },
  {
   "cell_type": "code",
   "execution_count": null,
   "id": "e0fc26d9",
   "metadata": {},
   "outputs": [],
   "source": [
    "### Annotate Wells only:\n",
    "\n",
    "conn = ezomero.connect(OMEROUSER, OMEROPASS, \"\", host=OMEROHOST, port=OMEROPORT, secure=True) \n",
    "for x in df_dict.keys():\n",
    "    ezomero.post_map_annotation(conn, \"Well\", x, df_dict[x], ns)"
   ]
  },
  {
   "cell_type": "code",
   "execution_count": null,
   "id": "f4049b87",
   "metadata": {},
   "outputs": [],
   "source": [
    "### Annotate all Images in the wells:\n",
    "\n",
    "conn = ezomero.connect(OMEROUSER, OMEROPASS, \"\", host=OMEROHOST, port=OMEROPORT, secure=True) \n",
    "for x in df_dict.keys():\n",
    "    well = conn.getObject(\"Well\", x)\n",
    "    index = well.countWellSample()\n",
    "    for index in range(0, index): # get all image names and ids\n",
    "        image_id= well.getImage(index).getId()\n",
    "        ezomero.post_map_annotation(conn, \"Image\", image_id, df_dict[x], ns)"
   ]
  }
 ],
 "metadata": {
  "kernelspec": {
   "display_name": "cellprofiler-kernel",
   "language": "python",
   "name": "cellprofiler-kernel"
  },
  "language_info": {
   "codemirror_mode": {
    "name": "ipython",
    "version": 3
   },
   "file_extension": ".py",
   "mimetype": "text/x-python",
   "name": "python",
   "nbconvert_exporter": "python",
   "pygments_lexer": "ipython3",
   "version": "3.8.12"
  }
 },
 "nbformat": 4,
 "nbformat_minor": 5
}
