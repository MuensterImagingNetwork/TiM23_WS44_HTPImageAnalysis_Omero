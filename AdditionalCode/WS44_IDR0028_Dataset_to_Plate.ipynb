{
 "cells": [
  {
   "cell_type": "code",
   "execution_count": 1,
   "id": "599d7519",
   "metadata": {},
   "outputs": [],
   "source": [
    "#Omero\n",
    "import ezomero\n",
    "from omero.model import OriginalFileI, PlateI, ScreenPlateLinkI, ScreenI, WellI, WellSampleI, ImageI\n",
    "from omero.rtypes import rint, rlong, rstring, robject, unwrap\n",
    "\n",
    "\n",
    "import getpass"
   ]
  },
  {
   "cell_type": "code",
   "execution_count": 2,
   "id": "2a38332c",
   "metadata": {},
   "outputs": [],
   "source": [
    "#Parameters\n",
    "\n",
    "# OMERO IDs\n",
    "results_screen_id =  852  # This is the id under which the plate will be posted, I gues in our case the \"WS44 screen\"\n",
    "plate_id = 765 # This is the plate with the \"original data\"\n",
    "dataset_id = 8026 # This is the dataset of the \"results - images\""
   ]
  },
  {
   "cell_type": "code",
   "execution_count": 3,
   "id": "8d1556db",
   "metadata": {},
   "outputs": [
    {
     "name": "stdout",
     "output_type": "stream",
     "text": [
      "Enter username: \tsweische\n",
      "Enter password: \t········\n"
     ]
    }
   ],
   "source": [
    "# Login to OMERO\n",
    "OMEROUSER = input(f\"Enter username: \\t\")\n",
    "OMEROPASS = getpass.getpass(prompt = f\"Enter password: \\t\")\n",
    "\n",
    "\n",
    "OMEROHOST = 'omero-imaging.uni-muenster.de'\n",
    "OMEROPORT = 4064\n",
    "OMEROWEB = 'https://omero-imaging.uni-muenster.de/webclient/'\n",
    "\n",
    "conn=ezomero.connect(OMEROUSER, OMEROPASS, \"\", host=OMEROHOST, port=OMEROPORT, secure=True)\n"
   ]
  },
  {
   "cell_type": "code",
   "execution_count": 4,
   "id": "6da23059",
   "metadata": {},
   "outputs": [],
   "source": [
    "# Get dataset\n",
    "dataset = conn.getObject(\"Dataset\", dataset_id)\n",
    "\n",
    "# !!! This one you might want to skip and link the plate to our WS44 Screen !!!\n",
    "# Create new plate\n",
    "#results_screen_name = \"Results_of_IDR0028_Plate1A\"\n",
    "#results_screen_id = ezomero.post_screen(conn, results_screen_name, description=\"These are the results of the CP analysis.\") \n",
    "\n",
    "\n",
    "# Create new plate\n",
    "plate = conn.getObject(\"Plate\", plate_id)\n",
    "plate_name = plate.name + \"_Results\"\n",
    "results_plate = PlateI()\n",
    "results_plate.name = rstring(plate_name)\n",
    "results_plate = conn.getUpdateService().saveAndReturnObject(results_plate)\n",
    "results_plate_id = results_plate.getId()\n",
    "\n",
    "\n",
    "# Links new Plate with new Screen\n",
    "link = ScreenPlateLinkI()\n",
    "link.setParent(ScreenI(results_screen_id, False))\n",
    "link.setChild(PlateI(results_plate_id, False))\n",
    "link_update_service = conn.getUpdateService()\n",
    "link_update_service.saveObject(link)"
   ]
  },
  {
   "cell_type": "code",
   "execution_count": 5,
   "id": "ab56b4a2",
   "metadata": {},
   "outputs": [],
   "source": [
    "rows_columns = []\n",
    "image_ids = []\n",
    "\n",
    "for image in dataset.listChildren():\n",
    "    image_ids.append(image.id)\n",
    "    rows_columns.append((int(image.name[:3]), int(image.name[3:6])))"
   ]
  },
  {
   "cell_type": "code",
   "execution_count": 6,
   "id": "49509830",
   "metadata": {},
   "outputs": [
    {
     "name": "stdout",
     "output_type": "stream",
     "text": [
      "Dataset to Plate: (3, 4)\n",
      "Dataset to Plate: (7, 13)\n",
      "Dataset to Plate: (3, 3)\n",
      "Dataset to Plate: (7, 15)\n",
      "Dataset to Plate: (3, 5)\n",
      "Dataset to Plate: (7, 14)\n"
     ]
    }
   ],
   "source": [
    "#conn=ezomero.connect(OMEROUSER, OMEROPASS, \"\", host=OMEROHOST, port=OMEROPORT, secure=True)\n",
    "for (row, column) in set(rows_columns):\n",
    "    images_select = []\n",
    "    print(f\"Dataset to Plate: {row, column}\")\n",
    "    for i, rc in enumerate(rows_columns): \n",
    "        if rc == (row, column):\n",
    "            images_select.append(image_ids[i])\n",
    "    \n",
    "    update_service = conn.getUpdateService()\n",
    "\n",
    "    well = WellI()\n",
    "    well.plate = PlateI(results_plate_id, False)\n",
    "    well.column = rint(column)\n",
    "    well.row = rint(row)\n",
    "    \n",
    "#try:\n",
    "    for image in images_select:\n",
    "        ws = WellSampleI()\n",
    "        ws.image = ImageI(image, False)\n",
    "        ws.well = well\n",
    "        well.addWellSample(ws)\n",
    "    update_service.saveObject(well)\n",
    "#except Exception:\n",
    "#print(\"error\")   "
   ]
  },
  {
   "cell_type": "code",
   "execution_count": 7,
   "id": "e84d10ed",
   "metadata": {},
   "outputs": [],
   "source": [
    "# remove from Dataset\n",
    "\n",
    "remove_from = conn.getObject(\"Dataset\", dataset_id)\n",
    "for image_id in image_ids:\n",
    "    if remove_from is not None:\n",
    "        image = conn.getObject(\"Image\", image_id)\n",
    "        links = list(image.getParentLinks(remove_from.id))\n",
    "        link_ids = [l.id for l in links]\n",
    "        conn.deleteObjects('DatasetImageLink', link_ids)\n"
   ]
  },
  {
   "cell_type": "code",
   "execution_count": 8,
   "id": "182bba6b",
   "metadata": {},
   "outputs": [],
   "source": [
    "conn.close()"
   ]
  }
 ],
 "metadata": {
  "kernelspec": {
   "display_name": "WS44",
   "language": "python",
   "name": "ws44"
  },
  "language_info": {
   "codemirror_mode": {
    "name": "ipython",
    "version": 3
   },
   "file_extension": ".py",
   "mimetype": "text/x-python",
   "name": "python",
   "nbconvert_exporter": "python",
   "pygments_lexer": "ipython3",
   "version": "3.8.16"
  }
 },
 "nbformat": 4,
 "nbformat_minor": 5
}
