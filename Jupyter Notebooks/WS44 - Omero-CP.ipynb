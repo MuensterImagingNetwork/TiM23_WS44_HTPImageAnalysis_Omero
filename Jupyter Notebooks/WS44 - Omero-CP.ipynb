{
 "cells": [
  {
   "cell_type": "markdown",
   "id": "10f17dc8",
   "metadata": {},
   "source": [
    "# WS44 - High throughput & automated data analysis and data management workflow with Cellprofiler and OMERO"
   ]
  },
  {
   "cell_type": "markdown",
   "id": "2a0dd6e2",
   "metadata": {},
   "source": [
    "### Introduction\n",
    "\n",
    "Example data, 2D cell images (nuclear and cytoplasmic staining), IDR0028"
   ]
  },
  {
   "cell_type": "markdown",
   "id": "29faab5e",
   "metadata": {},
   "source": [
    "### Tasks during the workshop\n",
    "1.     Data import to OMERO and preparation for analysis (including tagging, ROI selection).\n",
    "2.  \tAutomated data download/injection into analysis pipeline\n",
    "3.  \tAutomated data analysis using image analysis pipelines (e.g., Cellprofiler)\n",
    "4.  \tUpload of the resulting images (including tags and metadata) and measurement results (omero.tables)\n",
    "5.  \tExplorative data analysis using omero.parade"
   ]
  },
  {
   "cell_type": "markdown",
   "id": "001887d7",
   "metadata": {},
   "source": [
    "### Aims of this workshop:\n",
    "\n",
    "- learn to analyze provided example datasets\n",
    "- execute the full workflow\n",
    "- perform easy adjustments of the pipeline \n",
    "- generation of new project/datasets\n",
    "- selection of image channels or ROIs for analysis\n",
    "- key:value pair annotation\n",
    "- file tagging\n",
    "- explorative data analysis using omero.parade/omero.parade-crossfilter"
   ]
  },
  {
   "cell_type": "code",
   "execution_count": null,
   "id": "f1c923a8",
   "metadata": {},
   "outputs": [],
   "source": []
  },
  {
   "cell_type": "markdown",
   "id": "4097b89c",
   "metadata": {},
   "source": [
    "#### License / Code:\n",
    "- part of this code ..\n",
    "- datasettoplate\n",
    "- ome team\n",
    "- InjectImage"
   ]
  },
  {
   "cell_type": "markdown",
   "id": "cc032a45",
   "metadata": {},
   "source": [
    "### Imports"
   ]
  },
  {
   "cell_type": "code",
   "execution_count": null,
   "id": "089142bf",
   "metadata": {},
   "outputs": [],
   "source": [
    "#Cellprofiler\n",
    "import cellprofiler_core.pipeline\n",
    "import cellprofiler_core.preferences\n",
    "import cellprofiler_core.utilities.java\n",
    "import cellprofiler.modules\n",
    "import cellprofiler_core.image\n",
    "import cellprofiler_core.measurement\n",
    "import cellprofiler_core.object\n",
    "import cellprofiler_core.workspace\n",
    "from cellprofiler_core.modules.injectimage import InjectImage\n",
    "\n",
    "\n",
    "#Omero\n",
    "import ezomero\n",
    "from omero.model import OriginalFileI, PlateI, ScreenPlateLinkI, ScreenI, ImageAnnotationLinkI, ImageI\n",
    "from omero.rtypes import rint, rlong, rstring, robject, unwrap\n",
    "from omero.grid import DoubleColumn, ImageColumn, LongColumn, WellColumn, StringColumn, FileColumn\n",
    "from omero.constants.namespaces import NSBULKANNOTATIONS\n",
    "from omero.gateway import FileAnnotationWrapper\n",
    "\n",
    "\n",
    "#Other\n",
    "import h5py\n",
    "import pandas as pd\n",
    "import skimage.io\n",
    "import os\n",
    "import pathlib\n",
    "import pickle\n",
    "import tempfile\n",
    "import skimage\n",
    "import numpy as np\n",
    "from matplotlib import pyplot as plt\n",
    "import pandas as pd\n",
    "import seaborn as sns\n",
    "from datetime import datetime\n",
    "import warnings\n",
    "import time\n",
    "import glob\n",
    "import PIL\n",
    "import re\n",
    "import cv2\n",
    "import shutil\n",
    "import getpass\n",
    "#Own functions\n",
    "from CP_Omero_Functions11 import *"
   ]
  },
  {
   "cell_type": "markdown",
   "id": "ff2d7717",
   "metadata": {},
   "source": [
    "### Parameters\n",
    "\n",
    "In the code block below, you will add specific analysis paramters, such as the screen and plate id, you would like to image, as well as filepaths and other settings."
   ]
  },
  {
   "cell_type": "code",
   "execution_count": null,
   "id": "12515e61",
   "metadata": {},
   "outputs": [],
   "source": [
    "# Login to OMERO\n",
    "OMEROUSER = input(f\"Enter username: \\t\")\n",
    "OMEROPASS = getpass.getpass(prompt = f\"Enter password: \\t\")\n",
    "\n",
    "\n",
    "OMEROHOST = 'omero-imaging.xxxxxx.de'\n",
    "OMEROPORT = 9999\n",
    "OMEROWEB = 'https://omero-imaging.uni-muenster.de/webclient/'"
   ]
  },
  {
   "cell_type": "code",
   "execution_count": null,
   "id": "caf4431e",
   "metadata": {},
   "outputs": [],
   "source": [
    "# Connection Check:\n",
    "conn=ezomero.connect(OMEROUSER, OMEROPASS, \"\", host=OMEROHOST, port=OMEROPORT, secure=True)\n",
    "try:\n",
    "    conn.close()\n",
    "except:\n",
    "    print(\"Check your connection.\")"
   ]
  },
  {
   "cell_type": "code",
   "execution_count": null,
   "id": "f46004d8",
   "metadata": {},
   "outputs": [],
   "source": [
    "# OMERO IDs\n",
    "screen_id = 852 #Insert ID of dataset that you want to analyse\n",
    "plate_id = 768 #Insert corresponding project ID\n",
    "\n",
    "startwell = 0  #Insert integer\n",
    "endwell = 1    #Insert integer\n",
    "\n",
    "# Pipeline\n",
    "pipe_dir = r\"C:\\Users\\MiN_Acc1\\Documents\\Untitled Folder\\Project_OMERO-CP\\CP_Pipeline\\IRD0028_CP_v8_GPU.cppipe\" #Insert directory of pipeline including name of pipeline\n",
    "\n",
    "# Input and saving directories:\n",
    "output_dir = r\"D:\\PROJECTS\\MiN_Data\\Workgroups\\Sarah\\Project_OMERO-CP\\Data_idr0028\\output_dir_stresstest\" \n",
    "# if you want to use a temporary directory use: \"output_dir = 'temp_dir'\"\n",
    "\n",
    "# Cellprofiler-settings\n",
    "# (maybe remove)\n",
    "overwrite_results = 'Yes'  # If yes, data present in the output folder will be overwritten\n",
    "output_file_format = 'tiff'  # 'npy' for numpy array, 'tiff' for image (label images: 16-bit floating point)\n",
    "plugin_directory = \"C:\\Program Files\\Cellprofiler_updated\\Cellprofiler\\cellprofiler_plugins\"\n",
    "\n",
    "# Name of the new dataset to which the label images will be uploaded\n",
    "new_screen_name = \"Results_of_\"\n",
    "append_original_screen_name = True # False\n",
    "\n",
    "# Specify the channels that should be used for segmentation and analysis\n",
    "# Same names as in CP pipeline!\n",
    "ch1 = \"Nuclei\" #Nuclei segmentation\n",
    "ch2 = \"Actin\" #Actin (cell body) segmentation\n",
    "ch3 = \"Tubulin\"\n",
    "ch4 = \"YapTaz\" #YapTaz for analysis\n",
    "# ... expand if you have more channel .. ch5 = xx\n",
    "\n",
    "channels = [ch1, ch2, ch3, ch4]"
   ]
  },
  {
   "cell_type": "markdown",
   "id": "e3cb2136",
   "metadata": {},
   "source": [
    "## 1. Perform Cellprofiler Analysis\n",
    "\n",
    "In this part we will obtain the image data from omero, inject it into the cellprofiler analysis pipeline and perform the image analysis. Results will be saved on disk in the specified output folder."
   ]
  },
  {
   "cell_type": "code",
   "execution_count": null,
   "id": "acab6fbd",
   "metadata": {},
   "outputs": [],
   "source": [
    "### Prepare Cellprofiler\n",
    "\n",
    "#Set output directory\n",
    "if output_dir == \"temp_dir\":\n",
    "    temp_dir = tempfile.mkdtemp()\n",
    "    temp_path = os.path.normcase(temp_dir)\n",
    "    saving_path = pathlib.Path(temp_path).absolute()\n",
    "else:\n",
    "    saving_path = pathlib.Path(output_dir).absolute()\n",
    "\n",
    "cellprofiler_core.preferences.set_default_output_directory(f\"{saving_path}\")\n",
    "print(f\"Data will be saved to: {saving_path}\")    \n",
    "\n",
    "\n",
    "# Set-Up Cellprofiler\n",
    "cellprofiler_core.preferences.set_headless() # The headless mode runs cellprofiler without use of the GUI. \n",
    "cellprofiler_core.preferences.set_plugin_directory(plugin_directory)\n",
    "cellprofiler_core.preferences.set_max_workers(1) # You can increase the number of workers depending on your computer/server hardware.\n",
    "\n",
    "\n",
    "#Start the Java VM\n",
    "cellprofiler_core.utilities.java.start_java()"
   ]
  },
  {
   "cell_type": "code",
   "execution_count": null,
   "id": "8702a7ea",
   "metadata": {
    "scrolled": true
   },
   "outputs": [],
   "source": [
    "# Here we load the pipeline and adjust it to work with Omero. \n",
    "\n",
    "pipeline = load_pipeline(pipe_dir)\n",
    "pipeline = adjust_pipeline(pipeline, overwrite_results, output_file_format) "
   ]
  },
  {
   "cell_type": "code",
   "execution_count": null,
   "id": "0d953d14",
   "metadata": {},
   "outputs": [],
   "source": [
    "# Start Analysis\n",
    "\n",
    "# We define a timer to track how long the analysis will take.\n",
    "now = datetime.now()\n",
    "start_time = now.strftime(\"%H:%M:%S\")\n",
    "\n",
    "\n",
    "# We connect to omero and get the plate we want to analyse\n",
    "conn=ezomero.connect(OMEROUSER, OMEROPASS, \"\", host=OMEROHOST, port=OMEROPORT, secure=True) # Connection to Omero\n",
    "plate = conn.getObject(\"Plate\", plate_id) # Gets the plate you want to analyse\n",
    "\n",
    "\n",
    "# Start of the analysis\n",
    "print(\"analyzing...\")\n",
    "measurements = {}\n",
    "df_features=pd.DataFrame()\n",
    "\n",
    "\n",
    "# The code will loop through each well and perform the analysis. \n",
    "wells = list(plate.listChildren()) # Will analyse all wells\n",
    "wells = wells[startwell:endwell]  # use the wells specified above (omit if you want to analyse all wells)\n",
    "for count, well in enumerate(wells):\n",
    "    # Load a single Image per Well\n",
    "    index = well.countWellSample() # Will analyse all images in the well\n",
    "    index = 1 # Will analyse 3 images in the well (omit if you want to analyse all images)\n",
    "\n",
    "    for i in range(0, index):\n",
    "        image = well.getImage(i)\n",
    "        image_id = image.getId()\n",
    "        pixels = image.getPrimaryPixels()\n",
    "        size_c = image.getSizeC()\n",
    "        \n",
    "        # For each Image in OMERO, we copy pipeline, add the image_id to the Saving and Export Modules. \n",
    "        pipeline_copy = pipeline.copy()\n",
    "\n",
    "        for mod in pipeline_copy.modules():\n",
    "            if mod.module_name == \"SaveImages\":\n",
    "                for setting in range(len(pipeline_copy.modules()[mod.module_num-1].settings())):\n",
    "                    if pipeline_copy.modules()[mod.module_num-1].setting(setting).text == \"Enter single file name\":\n",
    "                        apendix = pipeline_copy.modules()[mod.module_num-1].setting(setting).get_value()\n",
    "                        pipeline_copy.modules()[mod.module_num-1].setting(setting).set_value(f\"{image_id}_{apendix}\")\n",
    "\n",
    "        for mod in pipeline_copy.modules():\n",
    "            if mod.module_name == \"ExportToSpreadsheet\":\n",
    "                for setting in range(len(pipeline_copy.modules()[mod.module_num-1].settings())):\n",
    "                    if pipeline_copy.modules()[mod.module_num-1].setting(setting).text == \"Add a prefix to file names?\":\n",
    "                        pipeline_copy.modules()[mod.module_num - 1].setting(setting).set_value(\"Yes\")\n",
    "                    if pipeline_copy.modules()[mod.module_num-1].setting(setting).text == \"Filename prefix\":\n",
    "                        pipeline_copy.modules()[mod.module_num - 1].setting(setting).set_value(f\"{image_id}_\")\n",
    "\n",
    "\n",
    "        # Inject image for each channel into the pipeline.\n",
    "        for c in range(0, size_c):\n",
    "            plane = pixels.getPlane(0, c, 0)\n",
    "            image_name = image.getName()\n",
    "            image_id = image.getId()\n",
    "            #print(image_name)\n",
    "            # Name of the channel expected in the pipeline\n",
    "            if c == 0:\n",
    "                image_name = ch1\n",
    "            if c == 1:\n",
    "                image_name = ch2\n",
    "            if c == 2:\n",
    "                image_name = ch3\n",
    "            if c == 3:\n",
    "                image_name = ch4\n",
    "            inject_image_module = InjectImage(image_name, plane)\n",
    "            inject_image_module.set_module_num(1)\n",
    "            pipeline_copy.add_module(inject_image_module)\n",
    "\n",
    "        # Here we run the pipeline on our image.\n",
    "        output_measurements = pipeline_copy.run()\n",
    "             \n",
    "        # Here we process the measurement results\n",
    "        measurements[image_id] = output_measurements\n",
    "        feature_meas = output_measurements.compute_aggregate_measurements(1, aggs=None)\n",
    "        df_feature = pd.DataFrame(feature_meas, index=[image_id])\n",
    "        df_features = pd.concat([df_features,df_feature])\n",
    "        print(f\"ImageID: {image_id} :  finished\")\n",
    "\n",
    "df_features[\"Image_ID\"] = df_features.index\n",
    "df_features.to_csv(os.path.join(saving_path,\"features_summary.csv\")) #Saving the results\n",
    "\n",
    "# Timer\n",
    "now = datetime.now()\n",
    "end_time = now.strftime(\"%H:%M:%S\")\n",
    "\n",
    "print(f\"Pipeline finished: {len(measurements)} images analysed\")\n",
    "\n",
    "print(f\"Analysis started: {start_time}\")\n",
    "print(f\"Analysis finished: {end_time}\")"
   ]
  },
  {
   "cell_type": "code",
   "execution_count": null,
   "id": "b0ac839c",
   "metadata": {},
   "outputs": [],
   "source": [
    "# Save pipeline file for metadata enrichment\n",
    "#Write adjusted pipeline to file:\n",
    "with open(str(saving_path) + '\\Pipeline.txt', 'w') as f:\n",
    "    for i,x in enumerate(pipeline_copy.modules()):\n",
    "        f.write(str(i)+\"\\n\")\n",
    "        f.write(str(x)+\"\\n\")\n",
    "        f.write(str([(setting.to_dict()) for setting in pipeline_copy.modules()[i].settings()])+\"\\n\")"
   ]
  },
  {
   "cell_type": "code",
   "execution_count": null,
   "id": "8c66dc2c",
   "metadata": {},
   "outputs": [],
   "source": [
    "#conn.close()"
   ]
  },
  {
   "cell_type": "markdown",
   "id": "9e2abba0",
   "metadata": {},
   "source": [
    "## 2. Upload Results To Omero\n",
    "\n",
    "We will now upload the results to omero.  \n",
    "\n",
    "We will first create a new screen and plate to host the resulting images. <br>\n",
    "Then we will derive image information (parent ID and appendix) from the file name. <br>\n",
    "The images will be updated to a (temporary) dataset. <br>\n",
    "Finally, all images will be distributed on the new results plate in the corresponding wells. <br>"
   ]
  },
  {
   "cell_type": "code",
   "execution_count": null,
   "id": "81dd5450",
   "metadata": {},
   "outputs": [],
   "source": [
    "############# 1. Creation of new screen, plate and wells #############\n",
    "#conn=ezomero.connect(OMEROUSER, OMEROPASS, \"\", host=OMEROHOST, port=OMEROPORT, secure=True)\n",
    "screen = conn.getObject(\"Screen\", screen_id)\n",
    "screen_name = screen.name\n",
    "\n",
    "# Create new screen\n",
    "if append_original_screen_name:\n",
    "    results_screen_name = new_screen_name + \"_\" + str(screen_name)\n",
    "else:\n",
    "    results_screen_name = new_screen_name\n",
    "results_screen_id = ezomero.post_screen(conn, results_screen_name, description=\"These are the results of the CP analysis.\")\n",
    "\n",
    "# Create new plate\n",
    "plate = conn.getObject(\"Plate\", plate_id)\n",
    "plate_name = plate.name\n",
    "results_plate = PlateI()\n",
    "results_plate.name = rstring(plate_name)\n",
    "results_plate = conn.getUpdateService().saveAndReturnObject(results_plate)\n",
    "results_plate_id = results_plate.getId()\n",
    "results_dataset_id = ezomero.post_dataset(conn, \"TempData\", description=\"Temp dataset for image results\")\n",
    "results_dataset = conn.getObject(\"Dataset\", results_dataset_id)\n",
    "\n",
    "# Links new Plate with new Screen\n",
    "link = ScreenPlateLinkI()\n",
    "link.setParent(ScreenI(results_screen_id, False))\n",
    "link.setChild(PlateI(results_plate_id, False))\n",
    "link_update_service = conn.getUpdateService()\n",
    "link_update_service.saveObject(link)"
   ]
  },
  {
   "cell_type": "code",
   "execution_count": null,
   "id": "da2db6a9",
   "metadata": {},
   "outputs": [],
   "source": [
    "############# 2. Prepare image information #############\n",
    "# Find image results to upload\n",
    "\n",
    "results = os.listdir(saving_path)\n",
    "image_results = [x for x in results if x.endswith(\".png\" or \".npy\" or \".tiff\")]\n",
    "image_result_tags = list(set([x.strip(\".png\" or \".npy\" or \".tiff\").split(\"_\")[-1] for x in image_results])) # Will be used for tags\n",
    "print(\"Resulting image types:\", image_result_tags)\n",
    "table_results = [x for x in results if x.endswith(\".csv\")]\n",
    "image_ids = list(set([x.split(\"_\")[0] for x in results if x.endswith(\".png\" or \".npy\" or \".tiff\")]))\n",
    "print(f\"You analysed {len(image_ids)} images.\")\n",
    "\n",
    "image_paths = load_images_from_disk(saving_path) # Own function, prepares image paths"
   ]
  },
  {
   "cell_type": "code",
   "execution_count": null,
   "id": "bca28d45",
   "metadata": {},
   "outputs": [],
   "source": [
    "############# 3. Main Upload #############\n",
    "conn=ezomero.connect(OMEROUSER, OMEROPASS, \"\", host=OMEROHOST, port=OMEROPORT, secure=True)\n",
    "\n",
    "# Upload all result images\n",
    "omero_images = []\n",
    "for img_path in image_paths:\n",
    "    parent_id, image = load_result_image_from_disk(img_path)\n",
    "    omero_image = upload_image_from_npseq(image, img_path, conn, results_dataset)\n",
    "    omero_images.append(omero_image)\n",
    "\n",
    "# Move to well\n",
    "plate = conn.getObject(\"Plate\", plate_id)\n",
    "dict_id_position = {}\n",
    "dict_position_id = {}\n",
    "for well in plate.listChildren():\n",
    "    index = well.countWellSample()\n",
    "    id_list = []\n",
    "\n",
    "    for index in range(0, index):\n",
    "        id_list.append(well.getImage(index).getId())\n",
    "        dict_id_position[well.getImage(index).getId()] = (well.row, well.column)\n",
    "    dict_position_id[(well.row, well.column)] = id_list\n",
    "\n",
    "\n",
    "for (row, column) in dict_position_id:\n",
    "    omero_images_select = []\n",
    "    for omero_image in omero_images:\n",
    "        image_parent_id = omero_image.name.split(\"_\")[0]\n",
    "        if int(image_parent_id) in dict_position_id[(row,column)]:\n",
    "            omero_images_select.append(omero_image)\n",
    "    success = add_images_to_plate(conn, omero_images_select, results_plate_id, column, row, remove_from=results_dataset)\n",
    "    if success == False:\n",
    "        print(f\"Upload failed.\")"
   ]
  },
  {
   "cell_type": "markdown",
   "id": "d3191fa0",
   "metadata": {},
   "source": [
    "## 3. Tag Upload\n",
    "\n",
    "To aid filtering inside omero, we will add tags to the result images based on their appendix. \n",
    "First, we query omero for all existing tags. \n",
    "Then, well find the uploaded images and add their corresponding tag to them (e.g. \"NucleiSeg\" for the nuclei-segmentation images)"
   ]
  },
  {
   "cell_type": "code",
   "execution_count": null,
   "id": "8c856647",
   "metadata": {},
   "outputs": [],
   "source": [
    "#conn=ezomero.connect(OMEROUSER, OMEROPASS, \"\", host=OMEROHOST, port=OMEROPORT, secure=True)\n",
    "#warnings.filterwarnings('ignore')\n",
    "\n",
    "# Create dictionary to save your existing tags\n",
    "existing_tags = {}\n",
    "\n",
    "# Define your sql query, you use an sql to search for all existing tags, to prevent creation of double tags\n",
    "sql = f\"SELECT ann.id, ann.description, ann.textValue from TagAnnotation ann WHERE ann.details.owner.id = {conn.getUser().getId()}\"\n",
    "\n",
    "for element in conn.getQueryService().projection(sql, None):    #element: list with 3 elements (ann.id, ann.description, ann.textValue)\n",
    "                                                                #element[0]: object #0 (::omero::RLong){_val = 15286} type: <class 'omero.rtypes.RLongI'>\n",
    "    tag_id, description, text = list(map(unwrap, element))\n",
    "    existing_tags[text] = tag_id\n",
    "\n",
    "print(f\"The following tags exist: {existing_tags}.\")"
   ]
  },
  {
   "cell_type": "code",
   "execution_count": null,
   "id": "333eaaa5",
   "metadata": {},
   "outputs": [],
   "source": [
    "#conn=ezomero.connect(OMEROUSER, OMEROPASS, \"\", host=OMEROHOST, port=OMEROPORT, secure=True)\n",
    "screen = conn.getObject(\"Screen\", results_screen_id)\n",
    "for plate in screen.listChildren():\n",
    "    for well in plate.listChildren():\n",
    "        index = well.countWellSample()\n",
    "        for index in range(0, index):\n",
    "            tag_name = well.getImage(index).getName().split(\".\")[0].split(\"_\")[-1]\n",
    "            if tag_name in existing_tags:\n",
    "                try:\n",
    "                    tag_id = existing_tags[tag_name]\n",
    "                    image = conn.getObject(\"Image\", well.getImage(index).getId())\n",
    "                    image.linkAnnotation(conn.getObject(\"Annotation\", tag_id))\n",
    "                    print(f\"Image {image.getName()} was tagged with {tag_name}\")\n",
    "                except omero.ValidationException:\n",
    "                    print(f\"Image {image.getName()} was already tagged.\")\n",
    "            else:\n",
    "                tag_ann = omero.gateway.TagAnnotationWrapper(conn)\n",
    "                tag_ann.setValue(tag_name)\n",
    "                tag_ann.setDescription(\"No description\")\n",
    "                tag_ann.save()\n",
    "                image = conn.getObject(\"Image\", well.getImage(index).getId())\n",
    "                image.linkAnnotation(tag_ann)\n",
    "                existing_tags[tag_name] = tag_ann.id\n",
    "                print(\"New tag created: \", tag_name, \".\")"
   ]
  },
  {
   "cell_type": "code",
   "execution_count": null,
   "id": "e34ad7a1",
   "metadata": {},
   "outputs": [],
   "source": [
    "# Add key:value pairs:\n",
    "# You can create a simple annotation dictionary to add Key:Value pairs to the plate\n",
    "\n",
    "annotation_dict = {\"TiM23\": \"WS44\", \"Software\": \"Cellprofiler 4.2.5\", \"Segmentation Algorithm\": \"Cellpose\"} \n",
    "\n",
    "# Add KV pairs to the plate:\n",
    "map_ann_id = ezomero.post_map_annotation(conn, \"Plate\", results_plate_id, annotation_dict, \"myns\")\n",
    "\n",
    "# Add KV pairs to every image in the plate:\n",
    "results_plate = conn.getObject(\"Plate\", results_plate_id)\n",
    "\n",
    "for well in results_plate.listChildren():\n",
    "    for image in well.listChildren():\n",
    "        map_ann_id = ezomero.post_map_annotation(conn, \"Image\", image.id, annotation_dict, \"myns\")"
   ]
  },
  {
   "cell_type": "code",
   "execution_count": null,
   "id": "93f1dabd",
   "metadata": {},
   "outputs": [],
   "source": [
    "results_plate = conn.getObject(\"Plate\", results_plate_id)\n",
    "\n",
    "for well in results_plate.listChildren():\n",
    "    for ws in well.listChildren():\n",
    "        image = ws.getImage()\n",
    "        map_ann_id = ezomero.post_map_annotation(conn, \"Image\", image.id, annotation_dict, \"myns\")"
   ]
  },
  {
   "cell_type": "code",
   "execution_count": null,
   "id": "69cc82b6",
   "metadata": {},
   "outputs": [],
   "source": [
    "# Upload pipeline to results plate:\n",
    "filepath_pipeline_txt = f\"{saving_path}\\Pipeline.txt\"\n",
    "file_ann_id = ezomero.post_file_annotation(conn, \"Plate\", results_plate_id, filepath_pipeline_txt, ns= \"myns\", description=\"This pipeline was used for analysis.\")"
   ]
  },
  {
   "cell_type": "markdown",
   "id": "b916e1f7",
   "metadata": {},
   "source": [
    "## 4. Upload result as omero.table\n",
    "\n",
    "Finally, we will upload the measurement results as an \"omero.table\" to Omero and link it to the analysed plate. \n",
    "These measurement results can be viewed in omero.parade-crossfilter."
   ]
  },
  {
   "cell_type": "code",
   "execution_count": null,
   "id": "2e3628fa",
   "metadata": {},
   "outputs": [],
   "source": [
    "filepath = os.path.join(saving_path,\"features_summary.csv\")\n",
    "df_features = pd.read_csv(filepath)\n",
    "df_features.rename(columns={'Unnamed: 0': \"Image_ID\"}, inplace=True)\n",
    "conn=ezomero.connect(OMEROUSER, OMEROPASS, \"\", host=OMEROHOST, port=OMEROPORT, secure=True)\n",
    "screen = conn.getObject(\"Screen\", screen_id)"
   ]
  },
  {
   "cell_type": "code",
   "execution_count": null,
   "id": "1a29b08a",
   "metadata": {},
   "outputs": [],
   "source": [
    "# Here we create the columns with the correct column types for an omero.table\n",
    "cols = []\n",
    "\n",
    "for col in df_features.columns:\n",
    "    #if col == 'Well':\n",
    "        #cols.append(WellColumn(col, '', df_features_plate[col]))\n",
    "    if col == \"Image_ID\":\n",
    "        cols.append(ImageColumn(col, '', df_features[col]))\n",
    "    elif df_features[col].dtype == 'int64':\n",
    "        cols.append(LongColumn(col, '', df_features[col]))\n",
    "    elif df_features[col].dtype == 'float64':\n",
    "        cols.append(DoubleColumn(col, '', df_features[col]))"
   ]
  },
  {
   "cell_type": "code",
   "execution_count": null,
   "id": "08f3ab24",
   "metadata": {},
   "outputs": [],
   "source": [
    "# Initialize a table\n",
    "resources = conn.c.sf.sharedResources()\n",
    "repository_id = resources.repositories().descriptions[0].getId().getValue()\n",
    "table_name = plate_name +\"_CellprofilerResults\"\n",
    "table = resources.newTable(repository_id, table_name)\n",
    "table.initialize(cols)\n",
    "table.addData(cols)\n",
    "\n",
    "# Create file annotation\n",
    "orig_file = table.getOriginalFile()\n",
    "file_ann = FileAnnotationWrapper(conn)\n",
    "file_ann.setNs(NSBULKANNOTATIONS)\n",
    "file_ann._obj.file = OriginalFileI(orig_file.id.val, False)\n",
    "file_ann.save()\n",
    "\n",
    "# Link the table to the original screen\n",
    "screen.linkAnnotation(file_ann)\n",
    "table.close()"
   ]
  },
  {
   "cell_type": "markdown",
   "id": "566596c9",
   "metadata": {},
   "source": [
    "### 5. Clean Up"
   ]
  },
  {
   "cell_type": "code",
   "execution_count": null,
   "id": "206b4b27",
   "metadata": {},
   "outputs": [],
   "source": [
    "# Close the omero connection\n",
    "conn.close()"
   ]
  },
  {
   "cell_type": "code",
   "execution_count": null,
   "id": "8329ad0d",
   "metadata": {},
   "outputs": [],
   "source": [
    "if output_dir == \"temp_dir\":\n",
    "    shutil.rmtree(temp_dir)"
   ]
  }
 ],
 "metadata": {
  "kernelspec": {
   "display_name": "WS44",
   "language": "python",
   "name": "ws44"
  },
  "language_info": {
   "codemirror_mode": {
    "name": "ipython",
    "version": 3
   },
   "file_extension": ".py",
   "mimetype": "text/x-python",
   "name": "python",
   "nbconvert_exporter": "python",
   "pygments_lexer": "ipython3",
   "version": "3.8.16"
  }
 },
 "nbformat": 4,
 "nbformat_minor": 5
}
